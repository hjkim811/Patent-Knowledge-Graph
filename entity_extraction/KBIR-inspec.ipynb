{
 "cells": [
  {
   "cell_type": "markdown",
   "id": "120bddcb",
   "metadata": {},
   "source": [
    "# KBIR-inspec\n",
    "- 가상환경 sait\n",
    "- KBIR extractor(): 가장 긴 abstract(abstracts[423])에 대해서도 끝부분까지 keyphrase 잘 추출하는 것 확인함\n",
    "- 긴 background는 KBIR의 max token 수 넘어감 → 문장 단위로 split 후 진행"
   ]
  },
  {
   "cell_type": "markdown",
   "id": "a58298d9",
   "metadata": {},
   "source": [
    "## 데이터 로드 & 전처리"
   ]
  },
  {
   "cell_type": "code",
   "execution_count": 1,
   "id": "f116c3bd",
   "metadata": {},
   "outputs": [],
   "source": [
    "import pickle\n",
    "from tqdm.notebook import tqdm\n",
    "from nltk import sent_tokenize\n",
    "\n",
    "with open('Preprocessed_Data/H01L_2020-2022_9585_abstract.pickle', 'rb') as fr:\n",
    "    abstracts = pickle.load(fr)\n",
    "with open('Preprocessed_Data/H01L_2020-2022_9585_background.pickle', 'rb') as fr:\n",
    "    backgrounds = pickle.load(fr)"
   ]
  },
  {
   "cell_type": "code",
   "execution_count": 2,
   "id": "1ce06c3d",
   "metadata": {},
   "outputs": [
    {
     "data": {
      "text/plain": [
       "9585"
      ]
     },
     "execution_count": 2,
     "metadata": {},
     "output_type": "execute_result"
    }
   ],
   "source": [
    "len(abstracts)"
   ]
  },
  {
   "cell_type": "code",
   "execution_count": 6,
   "id": "cf5a6c40",
   "metadata": {},
   "outputs": [
    {
     "data": {
      "text/plain": [
       "9293"
      ]
     },
     "execution_count": 6,
     "metadata": {},
     "output_type": "execute_result"
    }
   ],
   "source": [
    "# None인 background는 제거\n",
    "backgrounds = [b for b in backgrounds if b is not None]\n",
    "len(backgrounds)"
   ]
  },
  {
   "cell_type": "code",
   "execution_count": 23,
   "id": "3f1c9101",
   "metadata": {},
   "outputs": [],
   "source": [
    "# Background는 문장 단위로 split\n",
    "\n",
    "backgrounds_sent = []\n",
    "\n",
    "for b in backgrounds:\n",
    "    backgrounds_sent.extend(sent_tokenize(b))"
   ]
  },
  {
   "cell_type": "code",
   "execution_count": 25,
   "id": "615a5bd1",
   "metadata": {},
   "outputs": [
    {
     "data": {
      "text/plain": [
       "108915"
      ]
     },
     "execution_count": 25,
     "metadata": {},
     "output_type": "execute_result"
    }
   ],
   "source": [
    "len(backgrounds_sent)"
   ]
  },
  {
   "cell_type": "code",
   "execution_count": 24,
   "id": "ae510678",
   "metadata": {},
   "outputs": [
    {
     "name": "stdout",
     "output_type": "stream",
     "text": [
      "Recently, the high integration of semiconductors has increased the processing and storage capacity of information per unit area.\n",
      "\n",
      "This has led to demands for large diameter semiconductor wafers, miniaturization of circuit line width, and multilayer wiring.\n",
      "\n",
      "In order to form a multi-layered wiring on a semiconductor wafer, high-level flatness of the wafer is required, and a wafer flattening process is required for such high-level flatness.\n",
      "\n",
      "One of the wafer flattening processes is a wafer polishing process.\n",
      "\n",
      "The wafer polishing process is a step of polishing the upper and lower surfaces of the wafer with a polishing pad.\n",
      "\n",
      "The wafer polishing process is carried out using a polishing system having a polishing unit provided with an upper plate, a lower plate and a means for supplying polishing slurry to the polishing unit.\n",
      "\n",
      "A pipe connected to the polishing unit for supplying the slurry to the polishing unit may be provided in the polishing system.\n",
      "\n",
      "However, the abrasive grains contained in the slurry may be adhered to the inside of the pipe to clog the pipe.\n",
      "\n",
      "Furthermore, when such adhered slurry falls off and flows into the polishing unit, it may cause damage to the object to be polished and the polishing unit.\n",
      "\n",
      "Therefore, a solution to this problem is required.\n",
      "\n"
     ]
    }
   ],
   "source": [
    "for i in backgrounds_sent[:10]:\n",
    "    print(i)\n",
    "    print()"
   ]
  },
  {
   "cell_type": "markdown",
   "id": "dddf05a3",
   "metadata": {},
   "source": [
    "## 모델 로드"
   ]
  },
  {
   "cell_type": "code",
   "execution_count": 26,
   "id": "fd211529",
   "metadata": {},
   "outputs": [],
   "source": [
    "from transformers import (\n",
    "    TokenClassificationPipeline,\n",
    "    AutoModelForTokenClassification,\n",
    "    AutoTokenizer,\n",
    ")\n",
    "from transformers.pipelines import AggregationStrategy\n",
    "import numpy as np\n",
    "\n",
    "# Define keyphrase extraction pipeline\n",
    "class KeyphraseExtractionPipeline(TokenClassificationPipeline):\n",
    "    def __init__(self, model, *args, **kwargs):\n",
    "        super().__init__(\n",
    "            model=AutoModelForTokenClassification.from_pretrained(model),\n",
    "            tokenizer=AutoTokenizer.from_pretrained(model),\n",
    "            *args,\n",
    "            **kwargs\n",
    "        )\n",
    "\n",
    "    def postprocess(self, all_outputs):\n",
    "        results = super().postprocess(\n",
    "            all_outputs=all_outputs,\n",
    "            aggregation_strategy=AggregationStrategy.SIMPLE,\n",
    "        )\n",
    "        keyphrases = [result.get(\"word\").strip() for result in results] # 같은 keyphrase도 중복해서 추출\n",
    "\n",
    "        return results, keyphrases"
   ]
  },
  {
   "cell_type": "code",
   "execution_count": 27,
   "id": "2da545bb",
   "metadata": {},
   "outputs": [],
   "source": [
    "# CUDA 연결 안 됨, GPU 사용 x\n",
    "# Load pipeline\n",
    "model_name = \"ml6team/keyphrase-extraction-kbir-inspec\"\n",
    "extractor = KeyphraseExtractionPipeline(model=model_name)"
   ]
  },
  {
   "cell_type": "markdown",
   "id": "494dbc7b",
   "metadata": {},
   "source": [
    "## Abstract에서 Keyphrase 추출"
   ]
  },
  {
   "cell_type": "code",
   "execution_count": 6,
   "id": "8213da08",
   "metadata": {},
   "outputs": [
    {
     "data": {
      "application/vnd.jupyter.widget-view+json": {
       "model_id": "027e1195562d4fb69d173d0245e9068d",
       "version_major": 2,
       "version_minor": 0
      },
      "text/plain": [
       "  0%|          | 0/9585 [00:00<?, ?it/s]"
      ]
     },
     "metadata": {},
     "output_type": "display_data"
    },
    {
     "name": "stdout",
     "output_type": "stream",
     "text": [
      "CPU times: user 6h 54min 53s, sys: 15.3 s, total: 6h 55min 8s\n",
      "Wall time: 52min 8s\n"
     ]
    }
   ],
   "source": [
    "%%time\n",
    "result = []\n",
    "list_keyphrases = []\n",
    "\n",
    "for abstract in tqdm(abstracts):\n",
    "    patent = {}\n",
    "    patent['abstract'] = abstract\n",
    "    patent['keyphrases'] =[]\n",
    "    \n",
    "    raw, words = extractor(abstract)\n",
    "    list_keyphrases.extend(words)\n",
    "    \n",
    "    for r in raw:\n",
    "        keyphrase = {}\n",
    "        keyphrase['keyphrase'] = r['word'].strip()\n",
    "        keyphrase['start_index'] = r['start']\n",
    "        keyphrase['end_index'] = r['end']\n",
    "        patent['keyphrases'].append(keyphrase)\n",
    "    result.append(patent)"
   ]
  },
  {
   "cell_type": "code",
   "execution_count": 14,
   "id": "e8e2f432",
   "metadata": {},
   "outputs": [
    {
     "name": "stdout",
     "output_type": "stream",
     "text": [
      "9585\n",
      "99169\n"
     ]
    }
   ],
   "source": [
    "print(len(result))\n",
    "print(len(list_keyphrases))"
   ]
  },
  {
   "cell_type": "code",
   "execution_count": 15,
   "id": "f3038290",
   "metadata": {},
   "outputs": [
    {
     "name": "stdout",
     "output_type": "stream",
     "text": [
      "24995\n"
     ]
    }
   ],
   "source": [
    "from collections import Counter\n",
    "\n",
    "list_keyphrases = Counter(list_keyphrases).most_common()\n",
    "print(len(list_keyphrases))"
   ]
  },
  {
   "cell_type": "code",
   "execution_count": 20,
   "id": "281e848a",
   "metadata": {},
   "outputs": [
    {
     "data": {
      "text/plain": [
       "{'abstract': 'The wafer polishing system is disclosed. The wafer polishing system may comprise a polishing unit; a slurry distribution unit mounted on the polishing unit and distributing a slurry flowing into the polishing unit for wafer polishing; a slurry tank connected to the slurry distribution unit and storing the slurry; a slurry pump connected to the polishing unit and the slurry tank for transferring the slurry from the slurry tank to the polishing unit; a first circulation line in which one side is connected to the slurry tank; a second circulation line in which one side is connected to the other side of the first circulation line and the other side is connected to the slurry distribution unit; and a cleaning liquid supply unit connected to the second circulation line for supplying a cleaning liquid flowing through the second circulation line.',\n",
       " 'keyphrases': [{'keyphrase': 'wafer polishing system',\n",
       "   'start_index': 4,\n",
       "   'end_index': 26},\n",
       "  {'keyphrase': 'wafer polishing system', 'start_index': 45, 'end_index': 67},\n",
       "  {'keyphrase': 'slurry distribution unit',\n",
       "   'start_index': 101,\n",
       "   'end_index': 125},\n",
       "  {'keyphrase': 'slurry tank', 'start_index': 237, 'end_index': 248},\n",
       "  {'keyphrase': 'slurry pump', 'start_index': 317, 'end_index': 328},\n",
       "  {'keyphrase': 'first circulation line',\n",
       "   'start_index': 455,\n",
       "   'end_index': 477},\n",
       "  {'keyphrase': 'second circulation line',\n",
       "   'start_index': 531,\n",
       "   'end_index': 554},\n",
       "  {'keyphrase': 'sl', 'start_index': 673, 'end_index': 675},\n",
       "  {'keyphrase': 'distribution unit', 'start_index': 680, 'end_index': 697},\n",
       "  {'keyphrase': 'cleaning liquid supply unit',\n",
       "   'start_index': 705,\n",
       "   'end_index': 732}]}"
      ]
     },
     "execution_count": 20,
     "metadata": {},
     "output_type": "execute_result"
    }
   ],
   "source": [
    "result[0]"
   ]
  },
  {
   "cell_type": "code",
   "execution_count": 21,
   "id": "ccd5b06a",
   "metadata": {
    "scrolled": true
   },
   "outputs": [
    {
     "data": {
      "text/plain": [
       "[('semiconductor device', 1518),\n",
       " ('semiconductor substrate', 1218),\n",
       " ('substrate', 854),\n",
       " ('dielectric layer', 654),\n",
       " ('gate structure', 530),\n",
       " ('first', 495),\n",
       " ('semiconductor structure', 493),\n",
       " ('semiconductor wafer', 488),\n",
       " ('layer', 474),\n",
       " ('top surface', 456),\n",
       " ('semiconductor layer', 428),\n",
       " ('second', 415),\n",
       " ('process chamber', 407),\n",
       " ('substrate processing apparatus', 380),\n",
       " ('processing chamber', 368),\n",
       " ('fin structure', 359),\n",
       " ('gate electrode', 341),\n",
       " ('embodiment', 295),\n",
       " ('semiconductor fin', 280),\n",
       " ('gate stack', 276),\n",
       " ('plasma', 260),\n",
       " ('insulating layer', 257),\n",
       " ('semiconductor material', 246),\n",
       " ('conductive layer', 246),\n",
       " ('channel region', 240),\n",
       " ('conductive material', 227),\n",
       " ('electrostatic chuck', 226),\n",
       " ('gate dielectric layer', 213),\n",
       " ('dielectric material', 209),\n",
       " ('semiconductor devices', 173)]"
      ]
     },
     "execution_count": 21,
     "metadata": {},
     "output_type": "execute_result"
    }
   ],
   "source": [
    "list_keyphrases[:30]"
   ]
  },
  {
   "cell_type": "code",
   "execution_count": 22,
   "id": "d99f0818",
   "metadata": {},
   "outputs": [],
   "source": [
    "# pickle 파일로 저장\n",
    "with open('Preprocessed_Data/H01L_2020-2022_9585_abstract_keyphrases.pickle','wb') as fw:\n",
    "    pickle.dump(result, fw)\n",
    "with open('Preprocessed_Data/H01L_2020-2022_9585_abstract_keyphrases_list.pickle','wb') as fw:\n",
    "    pickle.dump(list_keyphrases, fw)"
   ]
  },
  {
   "cell_type": "markdown",
   "id": "ab728b2d",
   "metadata": {},
   "source": [
    "## Background에서 Keyphrase 추출"
   ]
  },
  {
   "cell_type": "code",
   "execution_count": 28,
   "id": "3e189089",
   "metadata": {},
   "outputs": [
    {
     "data": {
      "application/vnd.jupyter.widget-view+json": {
       "model_id": "d933a57f7f3640a4a1e0c0190b8bcc62",
       "version_major": 2,
       "version_minor": 0
      },
      "text/plain": [
       "  0%|          | 0/108915 [00:00<?, ?it/s]"
      ]
     },
     "metadata": {},
     "output_type": "display_data"
    },
    {
     "name": "stderr",
     "output_type": "stream",
     "text": [
      "IOPub message rate exceeded.\n",
      "The notebook server will temporarily stop sending output\n",
      "to the client in order to avoid crashing it.\n",
      "To change this limit, set the config variable\n",
      "`--NotebookApp.iopub_msg_rate_limit`.\n",
      "\n",
      "Current values:\n",
      "NotebookApp.iopub_msg_rate_limit=1000.0 (msgs/sec)\n",
      "NotebookApp.rate_limit_window=3.0 (secs)\n",
      "\n",
      "IOPub message rate exceeded.\n",
      "The notebook server will temporarily stop sending output\n",
      "to the client in order to avoid crashing it.\n",
      "To change this limit, set the config variable\n",
      "`--NotebookApp.iopub_msg_rate_limit`.\n",
      "\n",
      "Current values:\n",
      "NotebookApp.iopub_msg_rate_limit=1000.0 (msgs/sec)\n",
      "NotebookApp.rate_limit_window=3.0 (secs)\n",
      "\n",
      "IOPub message rate exceeded.\n",
      "The notebook server will temporarily stop sending output\n",
      "to the client in order to avoid crashing it.\n",
      "To change this limit, set the config variable\n",
      "`--NotebookApp.iopub_msg_rate_limit`.\n",
      "\n",
      "Current values:\n",
      "NotebookApp.iopub_msg_rate_limit=1000.0 (msgs/sec)\n",
      "NotebookApp.rate_limit_window=3.0 (secs)\n",
      "\n",
      "IOPub message rate exceeded.\n",
      "The notebook server will temporarily stop sending output\n",
      "to the client in order to avoid crashing it.\n",
      "To change this limit, set the config variable\n",
      "`--NotebookApp.iopub_msg_rate_limit`.\n",
      "\n",
      "Current values:\n",
      "NotebookApp.iopub_msg_rate_limit=1000.0 (msgs/sec)\n",
      "NotebookApp.rate_limit_window=3.0 (secs)\n",
      "\n",
      "IOPub message rate exceeded.\n",
      "The notebook server will temporarily stop sending output\n",
      "to the client in order to avoid crashing it.\n",
      "To change this limit, set the config variable\n",
      "`--NotebookApp.iopub_msg_rate_limit`.\n",
      "\n",
      "Current values:\n",
      "NotebookApp.iopub_msg_rate_limit=1000.0 (msgs/sec)\n",
      "NotebookApp.rate_limit_window=3.0 (secs)\n",
      "\n",
      "IOPub message rate exceeded.\n",
      "The notebook server will temporarily stop sending output\n",
      "to the client in order to avoid crashing it.\n",
      "To change this limit, set the config variable\n",
      "`--NotebookApp.iopub_msg_rate_limit`.\n",
      "\n",
      "Current values:\n",
      "NotebookApp.iopub_msg_rate_limit=1000.0 (msgs/sec)\n",
      "NotebookApp.rate_limit_window=3.0 (secs)\n",
      "\n",
      "IOPub message rate exceeded.\n",
      "The notebook server will temporarily stop sending output\n",
      "to the client in order to avoid crashing it.\n",
      "To change this limit, set the config variable\n",
      "`--NotebookApp.iopub_msg_rate_limit`.\n",
      "\n",
      "Current values:\n",
      "NotebookApp.iopub_msg_rate_limit=1000.0 (msgs/sec)\n",
      "NotebookApp.rate_limit_window=3.0 (secs)\n",
      "\n",
      "IOPub message rate exceeded.\n",
      "The notebook server will temporarily stop sending output\n",
      "to the client in order to avoid crashing it.\n",
      "To change this limit, set the config variable\n",
      "`--NotebookApp.iopub_msg_rate_limit`.\n",
      "\n",
      "Current values:\n",
      "NotebookApp.iopub_msg_rate_limit=1000.0 (msgs/sec)\n",
      "NotebookApp.rate_limit_window=3.0 (secs)\n",
      "\n",
      "IOPub message rate exceeded.\n",
      "The notebook server will temporarily stop sending output\n",
      "to the client in order to avoid crashing it.\n",
      "To change this limit, set the config variable\n",
      "`--NotebookApp.iopub_msg_rate_limit`.\n",
      "\n",
      "Current values:\n",
      "NotebookApp.iopub_msg_rate_limit=1000.0 (msgs/sec)\n",
      "NotebookApp.rate_limit_window=3.0 (secs)\n",
      "\n",
      "IOPub message rate exceeded.\n",
      "The notebook server will temporarily stop sending output\n",
      "to the client in order to avoid crashing it.\n",
      "To change this limit, set the config variable\n",
      "`--NotebookApp.iopub_msg_rate_limit`.\n",
      "\n",
      "Current values:\n",
      "NotebookApp.iopub_msg_rate_limit=1000.0 (msgs/sec)\n",
      "NotebookApp.rate_limit_window=3.0 (secs)\n",
      "\n",
      "IOPub message rate exceeded.\n",
      "The notebook server will temporarily stop sending output\n",
      "to the client in order to avoid crashing it.\n",
      "To change this limit, set the config variable\n",
      "`--NotebookApp.iopub_msg_rate_limit`.\n",
      "\n",
      "Current values:\n",
      "NotebookApp.iopub_msg_rate_limit=1000.0 (msgs/sec)\n",
      "NotebookApp.rate_limit_window=3.0 (secs)\n",
      "\n",
      "IOPub message rate exceeded.\n",
      "The notebook server will temporarily stop sending output\n",
      "to the client in order to avoid crashing it.\n",
      "To change this limit, set the config variable\n",
      "`--NotebookApp.iopub_msg_rate_limit`.\n",
      "\n",
      "Current values:\n",
      "NotebookApp.iopub_msg_rate_limit=1000.0 (msgs/sec)\n",
      "NotebookApp.rate_limit_window=3.0 (secs)\n",
      "\n"
     ]
    }
   ],
   "source": [
    "%%time\n",
    "result = []\n",
    "list_keyphrases = []\n",
    "\n",
    "for sent in tqdm(backgrounds_sent):\n",
    "    patent = {}\n",
    "    patent['sent'] = sent\n",
    "    patent['keyphrases'] =[]\n",
    "    \n",
    "    raw, words = extractor(sent)\n",
    "    list_keyphrases.extend(words)\n",
    "    \n",
    "    for r in raw:\n",
    "        keyphrase = {}\n",
    "        keyphrase['keyphrase'] = r['word'].strip()\n",
    "        keyphrase['start_index'] = r['start']\n",
    "        keyphrase['end_index'] = r['end']\n",
    "        patent['keyphrases'].append(keyphrase)\n",
    "    result.append(patent)"
   ]
  },
  {
   "cell_type": "code",
   "execution_count": 29,
   "id": "0a825b9e",
   "metadata": {},
   "outputs": [
    {
     "name": "stdout",
     "output_type": "stream",
     "text": [
      "108915\n",
      "260672\n"
     ]
    }
   ],
   "source": [
    "print(len(result))\n",
    "print(len(list_keyphrases))"
   ]
  },
  {
   "cell_type": "code",
   "execution_count": 30,
   "id": "9dc06a78",
   "metadata": {},
   "outputs": [
    {
     "name": "stdout",
     "output_type": "stream",
     "text": [
      "54952\n"
     ]
    }
   ],
   "source": [
    "from collections import Counter\n",
    "\n",
    "list_keyphrases = Counter(list_keyphrases).most_common()\n",
    "print(len(list_keyphrases))"
   ]
  },
  {
   "cell_type": "code",
   "execution_count": 31,
   "id": "774c7e72",
   "metadata": {},
   "outputs": [
    {
     "data": {
      "text/plain": [
       "{'sent': 'Recently, the high integration of semiconductors has increased the processing and storage capacity of information per unit area.',\n",
       " 'keyphrases': [{'keyphrase': 'semiconductors',\n",
       "   'start_index': 34,\n",
       "   'end_index': 48},\n",
       "  {'keyphrase': 'storage capacity', 'start_index': 82, 'end_index': 98}]}"
      ]
     },
     "execution_count": 31,
     "metadata": {},
     "output_type": "execute_result"
    }
   ],
   "source": [
    "result[0]"
   ]
  },
  {
   "cell_type": "code",
   "execution_count": 32,
   "id": "fb2acff5",
   "metadata": {
    "scrolled": true
   },
   "outputs": [
    {
     "data": {
      "text/plain": [
       "[('semiconductor devices', 2941),\n",
       " ('semiconductor device', 2537),\n",
       " ('semiconductor wafer', 2286),\n",
       " ('integrated circuits', 1488),\n",
       " ('semiconductor substrate', 1444),\n",
       " ('transistors', 1194),\n",
       " ('substrate processing apparatus', 894),\n",
       " ('semiconductor industry', 846),\n",
       " ('etching', 775),\n",
       " ('Semiconductor devices', 685),\n",
       " ('CMP', 679),\n",
       " ('electrostatic chuck', 635),\n",
       " ('semiconductor wafers', 622),\n",
       " ('fabrication process', 595),\n",
       " ('plasma', 583),\n",
       " ('integrated circuit', 577),\n",
       " ('channel region', 545),\n",
       " ('FinFET', 523),\n",
       " ('electronic devices', 482),\n",
       " ('manufacturing', 472),\n",
       " ('electronic components', 466),\n",
       " ('manufacturing process', 456),\n",
       " ('photolithography', 455),\n",
       " ('lithography', 431),\n",
       " ('processing chamber', 419),\n",
       " ('wafers', 416),\n",
       " ('gate electrode', 414),\n",
       " ('process chamber', 409),\n",
       " ('capacitors', 395),\n",
       " ('functional density', 394)]"
      ]
     },
     "execution_count": 32,
     "metadata": {},
     "output_type": "execute_result"
    }
   ],
   "source": [
    "list_keyphrases[:30]"
   ]
  },
  {
   "cell_type": "code",
   "execution_count": 33,
   "id": "f378350f",
   "metadata": {},
   "outputs": [],
   "source": [
    "# pickle 파일로 저장\n",
    "with open('Preprocessed_Data/H01L_2020-2022_9585_background_keyphrases.pickle','wb') as fw:\n",
    "    pickle.dump(result, fw)\n",
    "with open('Preprocessed_Data/H01L_2020-2022_9585_background_keyphrases_list.pickle','wb') as fw:\n",
    "    pickle.dump(list_keyphrases, fw)"
   ]
  },
  {
   "cell_type": "markdown",
   "id": "92ab9cc7",
   "metadata": {},
   "source": [
    "## 결과 불러오기\n",
    "#### Abstract\n",
    "- abstract_keyphrases : [abstract 1, abstract 2, ... ]인 리스트\n",
    "  - abstract n : key가 'abstract', 'keyphrases'인 딕셔너리\n",
    "    - abstract: abstract 텍스트\n",
    "    - keyphrases: [keyphrase 1, keyphrase 2, ... ]인 리스트\n",
    "      - keyphrase n: key가 'keyphrase', 'start_index', 'end_index'인 딕셔너리\n",
    "        - keyphrase: keyphrase 텍스트\n",
    "        - start_index: abstract에서 해당 keyphrase가 시작하는 index\n",
    "        - end_index: abstract에서 해당 keyphrase가 끝나는 index\n",
    "        \n",
    "- abstract_keyphrases_list: keyphrase만 모아서 빈도순으로 나열한 리스트\n",
    "\n",
    "#### Background\n",
    "- background_keyphrases : [sentence 1, sentence 2, ... ]인 리스트\n",
    "  - sentence n : key가 'sent', 'keyphrases'인 딕셔너리\n",
    "    - sent: background 텍스트 (한 문장)\n",
    "    - keyphrases: [keyphrase 1, keyphrase 2, ... ]인 리스트\n",
    "      - keyphrase n: key가 'keyphrase', 'start_index', 'end_index'인 딕셔너리\n",
    "        - keyphrase: keyphrase 텍스트\n",
    "        - start_index: background 문장에서 해당 keyphrase가 시작하는 index\n",
    "        - end_index: background 문장에서 해당 keyphrase가 끝나는 index\n",
    "        \n",
    "- background_keyphrases_list: keyphrase만 모아서 빈도순으로 나열한 리스트"
   ]
  },
  {
   "cell_type": "code",
   "execution_count": 34,
   "id": "db433ef0",
   "metadata": {},
   "outputs": [],
   "source": [
    "# pickle 파일 불러오기\n",
    "\n",
    "# Abstract\n",
    "with open('Preprocessed_Data/H01L_2020-2022_9585_abstract_keyphrases.pickle', 'rb') as fr:\n",
    "    abstract_keyphrases = pickle.load(fr)\n",
    "with open('Preprocessed_Data/H01L_2020-2022_9585_abstract_keyphrases_list.pickle', 'rb') as fr:\n",
    "    abstract_keyphrases_list = pickle.load(fr)\n",
    "\n",
    "# Background\n",
    "with open('Preprocessed_Data/H01L_2020-2022_9585_background_keyphrases.pickle', 'rb') as fr:\n",
    "    background_keyphrases = pickle.load(fr)\n",
    "with open('Preprocessed_Data/H01L_2020-2022_9585_background_keyphrases_list.pickle', 'rb') as fr:\n",
    "    background_keyphrases_list = pickle.load(fr)"
   ]
  },
  {
   "cell_type": "code",
   "execution_count": 36,
   "id": "61d1ea2b",
   "metadata": {},
   "outputs": [
    {
     "name": "stdout",
     "output_type": "stream",
     "text": [
      "9585\n",
      "24995\n"
     ]
    }
   ],
   "source": [
    "# Abstract\n",
    "print(len(abstract_keyphrases)) # 전체 특허 수와 동일\n",
    "print(len(abstract_keyphrases_list)) # unique한 keyphrase의 수"
   ]
  },
  {
   "cell_type": "code",
   "execution_count": 35,
   "id": "cf5193db",
   "metadata": {},
   "outputs": [
    {
     "name": "stdout",
     "output_type": "stream",
     "text": [
      "108915\n",
      "54952\n"
     ]
    }
   ],
   "source": [
    "# Background\n",
    "print(len(background_keyphrases)) # 전체 문장 수와 동일\n",
    "print(len(background_keyphrases_list)) # unique한 keyphrase의 수"
   ]
  },
  {
   "cell_type": "code",
   "execution_count": 37,
   "id": "cd611eed",
   "metadata": {},
   "outputs": [
    {
     "name": "stdout",
     "output_type": "stream",
     "text": [
      "The wafer polishing system is disclosed. The wafer polishing system may comprise a polishing unit; a slurry distribution unit mounted on the polishing unit and distributing a slurry flowing into the polishing unit for wafer polishing; a slurry tank connected to the slurry distribution unit and storing the slurry; a slurry pump connected to the polishing unit and the slurry tank for transferring the slurry from the slurry tank to the polishing unit; a first circulation line in which one side is connected to the slurry tank; a second circulation line in which one side is connected to the other side of the first circulation line and the other side is connected to the slurry distribution unit; and a cleaning liquid supply unit connected to the second circulation line for supplying a cleaning liquid flowing through the second circulation line.\n",
      "\n",
      "{'keyphrase': 'wafer polishing system', 'start_index': 4, 'end_index': 26}\n"
     ]
    }
   ],
   "source": [
    "# Abstract Example\n",
    "print(abstract_keyphrases[0]['abstract']) # 첫번째 특허의 abstract\n",
    "print()\n",
    "print(abstract_keyphrases[0]['keyphrases'][0]) # 첫번째 특허의 첫번째 keyphrase"
   ]
  },
  {
   "cell_type": "code",
   "execution_count": 38,
   "id": "e747da0a",
   "metadata": {},
   "outputs": [
    {
     "name": "stdout",
     "output_type": "stream",
     "text": [
      "wafer polishing system\n",
      "wafer polishing system\n"
     ]
    }
   ],
   "source": [
    "# Abstract Example\n",
    "start = abstract_keyphrases[0]['keyphrases'][0]['start_index']\n",
    "end = abstract_keyphrases[0]['keyphrases'][0]['end_index']\n",
    "\n",
    "print(abstract_keyphrases[0]['keyphrases'][0]['keyphrase'])\n",
    "print(abstract_keyphrases[0]['abstract'][start:end]) # index 이용해서 abstract에서 indexing"
   ]
  },
  {
   "cell_type": "code",
   "execution_count": 43,
   "id": "3eb84ef3",
   "metadata": {},
   "outputs": [
    {
     "name": "stdout",
     "output_type": "stream",
     "text": [
      "Recently, the high integration of semiconductors has increased the processing and storage capacity of information per unit area.\n",
      "\n",
      "{'keyphrase': 'semiconductors', 'start_index': 34, 'end_index': 48}\n"
     ]
    }
   ],
   "source": [
    "# Background Example\n",
    "print(background_keyphrases[0]['sent']) # Background 첫번째 문장\n",
    "print()\n",
    "print(background_keyphrases[0]['keyphrases'][0]) # 첫번째 문장의 첫번째 keyphrase"
   ]
  },
  {
   "cell_type": "code",
   "execution_count": 44,
   "id": "dc2450fb",
   "metadata": {},
   "outputs": [
    {
     "name": "stdout",
     "output_type": "stream",
     "text": [
      "semiconductors\n",
      "semiconductors\n"
     ]
    }
   ],
   "source": [
    "# Background Example\n",
    "start = background_keyphrases[0]['keyphrases'][0]['start_index']\n",
    "end = background_keyphrases[0]['keyphrases'][0]['end_index']\n",
    "\n",
    "print(background_keyphrases[0]['keyphrases'][0]['keyphrase'])\n",
    "print(background_keyphrases[0]['sent'][start:end]) # index 이용해서 background 문장에서 indexing"
   ]
  }
 ],
 "metadata": {
  "kernelspec": {
   "display_name": "Python [conda env:sait]",
   "language": "python",
   "name": "conda-env-sait-py"
  },
  "language_info": {
   "codemirror_mode": {
    "name": "ipython",
    "version": 3
   },
   "file_extension": ".py",
   "mimetype": "text/x-python",
   "name": "python",
   "nbconvert_exporter": "python",
   "pygments_lexer": "ipython3",
   "version": "3.9.17"
  }
 },
 "nbformat": 4,
 "nbformat_minor": 5
}
