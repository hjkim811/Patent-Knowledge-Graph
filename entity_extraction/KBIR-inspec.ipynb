{
 "cells": [
  {
   "cell_type": "markdown",
   "id": "494dbc7b",
   "metadata": {},
   "source": [
    "## Abstract에서 Keyphrase 추출\n",
    "- 가상환경 sait\n",
    "- extractor(): 가장 긴 abstract(abstracts[423])에 대해서도 끝부분까지 keyphrase 잘 추출하는 것 확인함"
   ]
  },
  {
   "cell_type": "code",
   "execution_count": 1,
   "id": "f116c3bd",
   "metadata": {},
   "outputs": [],
   "source": [
    "import pickle\n",
    "from tqdm.notebook import tqdm\n",
    "\n",
    "with open('Preprocessed_Data/H01L_2020-2022_9585_abstract.pickle', 'rb') as fr:\n",
    "    abstracts = pickle.load(fr)"
   ]
  },
  {
   "cell_type": "code",
   "execution_count": 2,
   "id": "1ce06c3d",
   "metadata": {},
   "outputs": [
    {
     "data": {
      "text/plain": [
       "9585"
      ]
     },
     "execution_count": 2,
     "metadata": {},
     "output_type": "execute_result"
    }
   ],
   "source": [
    "len(abstracts)"
   ]
  },
  {
   "cell_type": "code",
   "execution_count": 3,
   "id": "9873568b",
   "metadata": {},
   "outputs": [
    {
     "data": {
      "text/plain": [
       "'The wafer polishing system is disclosed. The wafer polishing system may comprise a polishing unit; a slurry distribution unit mounted on the polishing unit and distributing a slurry flowing into the polishing unit for wafer polishing; a slurry tank connected to the slurry distribution unit and storing the slurry; a slurry pump connected to the polishing unit and the slurry tank for transferring the slurry from the slurry tank to the polishing unit; a first circulation line in which one side is connected to the slurry tank; a second circulation line in which one side is connected to the other side of the first circulation line and the other side is connected to the slurry distribution unit; and a cleaning liquid supply unit connected to the second circulation line for supplying a cleaning liquid flowing through the second circulation line.'"
      ]
     },
     "execution_count": 3,
     "metadata": {},
     "output_type": "execute_result"
    }
   ],
   "source": [
    "abstracts[0]"
   ]
  },
  {
   "cell_type": "code",
   "execution_count": 4,
   "id": "fd211529",
   "metadata": {},
   "outputs": [],
   "source": [
    "from transformers import (\n",
    "    TokenClassificationPipeline,\n",
    "    AutoModelForTokenClassification,\n",
    "    AutoTokenizer,\n",
    ")\n",
    "from transformers.pipelines import AggregationStrategy\n",
    "import numpy as np\n",
    "\n",
    "# Define keyphrase extraction pipeline\n",
    "class KeyphraseExtractionPipeline(TokenClassificationPipeline):\n",
    "    def __init__(self, model, *args, **kwargs):\n",
    "        super().__init__(\n",
    "            model=AutoModelForTokenClassification.from_pretrained(model),\n",
    "            tokenizer=AutoTokenizer.from_pretrained(model),\n",
    "            *args,\n",
    "            **kwargs\n",
    "        )\n",
    "\n",
    "    def postprocess(self, all_outputs):\n",
    "        results = super().postprocess(\n",
    "            all_outputs=all_outputs,\n",
    "            aggregation_strategy=AggregationStrategy.SIMPLE,\n",
    "        )\n",
    "        keyphrases = [result.get(\"word\").strip() for result in results] # 같은 keyphrase도 중복해서 추출\n",
    "\n",
    "        return results, keyphrases"
   ]
  },
  {
   "cell_type": "code",
   "execution_count": 5,
   "id": "2da545bb",
   "metadata": {},
   "outputs": [
    {
     "name": "stderr",
     "output_type": "stream",
     "text": [
      "Using /home/hjkim/.cache/torch_extensions/py39_cu117 as PyTorch extensions root...\n",
      "Detected CUDA files, patching ldflags\n",
      "Failed to load CUDA kernels. Mra requires custom CUDA kernels. Please verify that compatible versions of PyTorch and CUDA Toolkit are installed: CUDA_HOME environment variable is not set. Please set it to your CUDA install root.\n"
     ]
    }
   ],
   "source": [
    "# CUDA 연결 안 됨, GPU 사용 x\n",
    "# Load pipeline\n",
    "model_name = \"ml6team/keyphrase-extraction-kbir-inspec\"\n",
    "extractor = KeyphraseExtractionPipeline(model=model_name)"
   ]
  },
  {
   "cell_type": "code",
   "execution_count": 6,
   "id": "8213da08",
   "metadata": {},
   "outputs": [
    {
     "data": {
      "application/vnd.jupyter.widget-view+json": {
       "model_id": "027e1195562d4fb69d173d0245e9068d",
       "version_major": 2,
       "version_minor": 0
      },
      "text/plain": [
       "  0%|          | 0/9585 [00:00<?, ?it/s]"
      ]
     },
     "metadata": {},
     "output_type": "display_data"
    },
    {
     "name": "stdout",
     "output_type": "stream",
     "text": [
      "CPU times: user 6h 54min 53s, sys: 15.3 s, total: 6h 55min 8s\n",
      "Wall time: 52min 8s\n"
     ]
    }
   ],
   "source": [
    "%%time\n",
    "result = []\n",
    "list_keyphrases = []\n",
    "\n",
    "for abstract in tqdm(abstracts):\n",
    "    patent = {}\n",
    "    patent['abstract'] = abstract\n",
    "    patent['keyphrases'] =[]\n",
    "    \n",
    "    raw, words = extractor(abstract)\n",
    "    list_keyphrases.extend(words)\n",
    "    \n",
    "    for r in raw:\n",
    "        keyphrase = {}\n",
    "        keyphrase['keyphrase'] = r['word'].strip()\n",
    "        keyphrase['start_index'] = r['start']\n",
    "        keyphrase['end_index'] = r['end']\n",
    "        patent['keyphrases'].append(keyphrase)\n",
    "    result.append(patent)"
   ]
  },
  {
   "cell_type": "code",
   "execution_count": 14,
   "id": "e8e2f432",
   "metadata": {},
   "outputs": [
    {
     "name": "stdout",
     "output_type": "stream",
     "text": [
      "9585\n",
      "99169\n"
     ]
    }
   ],
   "source": [
    "print(len(result))\n",
    "print(len(list_keyphrases))"
   ]
  },
  {
   "cell_type": "code",
   "execution_count": 15,
   "id": "f3038290",
   "metadata": {},
   "outputs": [
    {
     "name": "stdout",
     "output_type": "stream",
     "text": [
      "24995\n"
     ]
    }
   ],
   "source": [
    "from collections import Counter\n",
    "\n",
    "list_keyphrases = Counter(list_keyphrases).most_common()\n",
    "print(len(list_keyphrases))"
   ]
  },
  {
   "cell_type": "code",
   "execution_count": 20,
   "id": "281e848a",
   "metadata": {},
   "outputs": [
    {
     "data": {
      "text/plain": [
       "{'abstract': 'The wafer polishing system is disclosed. The wafer polishing system may comprise a polishing unit; a slurry distribution unit mounted on the polishing unit and distributing a slurry flowing into the polishing unit for wafer polishing; a slurry tank connected to the slurry distribution unit and storing the slurry; a slurry pump connected to the polishing unit and the slurry tank for transferring the slurry from the slurry tank to the polishing unit; a first circulation line in which one side is connected to the slurry tank; a second circulation line in which one side is connected to the other side of the first circulation line and the other side is connected to the slurry distribution unit; and a cleaning liquid supply unit connected to the second circulation line for supplying a cleaning liquid flowing through the second circulation line.',\n",
       " 'keyphrases': [{'keyphrase': 'wafer polishing system',\n",
       "   'start_index': 4,\n",
       "   'end_index': 26},\n",
       "  {'keyphrase': 'wafer polishing system', 'start_index': 45, 'end_index': 67},\n",
       "  {'keyphrase': 'slurry distribution unit',\n",
       "   'start_index': 101,\n",
       "   'end_index': 125},\n",
       "  {'keyphrase': 'slurry tank', 'start_index': 237, 'end_index': 248},\n",
       "  {'keyphrase': 'slurry pump', 'start_index': 317, 'end_index': 328},\n",
       "  {'keyphrase': 'first circulation line',\n",
       "   'start_index': 455,\n",
       "   'end_index': 477},\n",
       "  {'keyphrase': 'second circulation line',\n",
       "   'start_index': 531,\n",
       "   'end_index': 554},\n",
       "  {'keyphrase': 'sl', 'start_index': 673, 'end_index': 675},\n",
       "  {'keyphrase': 'distribution unit', 'start_index': 680, 'end_index': 697},\n",
       "  {'keyphrase': 'cleaning liquid supply unit',\n",
       "   'start_index': 705,\n",
       "   'end_index': 732}]}"
      ]
     },
     "execution_count": 20,
     "metadata": {},
     "output_type": "execute_result"
    }
   ],
   "source": [
    "result[0]"
   ]
  },
  {
   "cell_type": "code",
   "execution_count": 21,
   "id": "ccd5b06a",
   "metadata": {
    "scrolled": true
   },
   "outputs": [
    {
     "data": {
      "text/plain": [
       "[('semiconductor device', 1518),\n",
       " ('semiconductor substrate', 1218),\n",
       " ('substrate', 854),\n",
       " ('dielectric layer', 654),\n",
       " ('gate structure', 530),\n",
       " ('first', 495),\n",
       " ('semiconductor structure', 493),\n",
       " ('semiconductor wafer', 488),\n",
       " ('layer', 474),\n",
       " ('top surface', 456),\n",
       " ('semiconductor layer', 428),\n",
       " ('second', 415),\n",
       " ('process chamber', 407),\n",
       " ('substrate processing apparatus', 380),\n",
       " ('processing chamber', 368),\n",
       " ('fin structure', 359),\n",
       " ('gate electrode', 341),\n",
       " ('embodiment', 295),\n",
       " ('semiconductor fin', 280),\n",
       " ('gate stack', 276),\n",
       " ('plasma', 260),\n",
       " ('insulating layer', 257),\n",
       " ('semiconductor material', 246),\n",
       " ('conductive layer', 246),\n",
       " ('channel region', 240),\n",
       " ('conductive material', 227),\n",
       " ('electrostatic chuck', 226),\n",
       " ('gate dielectric layer', 213),\n",
       " ('dielectric material', 209),\n",
       " ('semiconductor devices', 173)]"
      ]
     },
     "execution_count": 21,
     "metadata": {},
     "output_type": "execute_result"
    }
   ],
   "source": [
    "list_keyphrases[:30]"
   ]
  },
  {
   "cell_type": "code",
   "execution_count": 22,
   "id": "d99f0818",
   "metadata": {},
   "outputs": [],
   "source": [
    "# pickle 파일로 저장\n",
    "with open('Preprocessed_Data/H01L_2020-2022_9585_abstract_keyphrases.pickle','wb') as fw:\n",
    "    pickle.dump(result, fw)\n",
    "with open('Preprocessed_Data/H01L_2020-2022_9585_abstract_keyphrases_list.pickle','wb') as fw:\n",
    "    pickle.dump(list_keyphrases, fw)"
   ]
  },
  {
   "cell_type": "markdown",
   "id": "92ab9cc7",
   "metadata": {},
   "source": [
    "## 결과 불러오기\n",
    "- keyphrases : [abstract 1, abstract 2, ... ]인 리스트\n",
    "  - abstract n : key가 'abstract', 'keyphrases'인 딕셔너리\n",
    "    - abstract: abstract 텍스트\n",
    "    - keyphrases: [keyphrase 1, keyphrase 2, ... ]인 리스트\n",
    "      - keyphrase n: key가 'keyphrase', 'start_index', 'end_index'인 딕셔너리\n",
    "        - keyphrase: keyphrase 텍스트\n",
    "        - start_index: abstract에서 해당 keyphrase가 시작하는 index\n",
    "        - end_index: abstract에서 해당 keyphrase가 끝나는 index\n",
    "        \n",
    "- keyphrases_list: keyphrase만 모아서 빈도순으로 나열한 리스트"
   ]
  },
  {
   "cell_type": "code",
   "execution_count": 23,
   "id": "db433ef0",
   "metadata": {},
   "outputs": [],
   "source": [
    "# pickle 파일 불러오기\n",
    "with open('Preprocessed_Data/H01L_2020-2022_9585_abstract_keyphrases.pickle', 'rb') as fr:\n",
    "    keyphrases = pickle.load(fr)\n",
    "with open('Preprocessed_Data/H01L_2020-2022_9585_abstract_keyphrases_list.pickle', 'rb') as fr:\n",
    "    keyphrases_list = pickle.load(fr)"
   ]
  },
  {
   "cell_type": "code",
   "execution_count": 26,
   "id": "61d1ea2b",
   "metadata": {},
   "outputs": [
    {
     "name": "stdout",
     "output_type": "stream",
     "text": [
      "9585\n",
      "24995\n"
     ]
    }
   ],
   "source": [
    "print(len(keyphrases)) # 전체 특허 수와 동일\n",
    "print(len(keyphrases_list)) # unique한 keyphrase의 수"
   ]
  },
  {
   "cell_type": "code",
   "execution_count": 33,
   "id": "cd611eed",
   "metadata": {},
   "outputs": [
    {
     "name": "stdout",
     "output_type": "stream",
     "text": [
      "The wafer polishing system is disclosed. The wafer polishing system may comprise a polishing unit; a slurry distribution unit mounted on the polishing unit and distributing a slurry flowing into the polishing unit for wafer polishing; a slurry tank connected to the slurry distribution unit and storing the slurry; a slurry pump connected to the polishing unit and the slurry tank for transferring the slurry from the slurry tank to the polishing unit; a first circulation line in which one side is connected to the slurry tank; a second circulation line in which one side is connected to the other side of the first circulation line and the other side is connected to the slurry distribution unit; and a cleaning liquid supply unit connected to the second circulation line for supplying a cleaning liquid flowing through the second circulation line.\n",
      "\n",
      "{'keyphrase': 'wafer polishing system', 'start_index': 4, 'end_index': 26}\n"
     ]
    }
   ],
   "source": [
    "# Ex.\n",
    "print(keyphrases[0]['abstract']) # 첫번째 특허의 abstract\n",
    "print()\n",
    "print(keyphrases[0]['keyphrases'][0]) # 첫번째 특허의 첫번째 keyphrase"
   ]
  },
  {
   "cell_type": "code",
   "execution_count": 35,
   "id": "e747da0a",
   "metadata": {},
   "outputs": [
    {
     "name": "stdout",
     "output_type": "stream",
     "text": [
      "wafer polishing system\n",
      "wafer polishing system\n"
     ]
    }
   ],
   "source": [
    "# Ex.\n",
    "start = keyphrases[0]['keyphrases'][0]['start_index']\n",
    "end = keyphrases[0]['keyphrases'][0]['end_index']\n",
    "\n",
    "print(keyphrases[0]['keyphrases'][0]['keyphrase'])\n",
    "print(keyphrases[0]['abstract'][start:end]) # index 이용해서 abstract에서 indexing"
   ]
  }
 ],
 "metadata": {
  "kernelspec": {
   "display_name": "Python [conda env:sait]",
   "language": "python",
   "name": "conda-env-sait-py"
  },
  "language_info": {
   "codemirror_mode": {
    "name": "ipython",
    "version": 3
   },
   "file_extension": ".py",
   "mimetype": "text/x-python",
   "name": "python",
   "nbconvert_exporter": "python",
   "pygments_lexer": "ipython3",
   "version": "3.9.17"
  }
 },
 "nbformat": 4,
 "nbformat_minor": 5
}
